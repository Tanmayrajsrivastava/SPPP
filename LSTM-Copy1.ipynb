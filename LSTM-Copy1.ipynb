{
 "cells": [
  {
   "cell_type": "code",
   "execution_count": 1,
   "metadata": {},
   "outputs": [
    {
     "name": "stderr",
     "output_type": "stream",
     "text": [
      "c:\\users\\tanmay\\appdata\\local\\programs\\python\\python37\\lib\\importlib\\_bootstrap.py:219: RuntimeWarning: numpy.ufunc size changed, may indicate binary incompatibility. Expected 192 from C header, got 216 from PyObject\n",
      "  return f(*args, **kwds)\n",
      "c:\\users\\tanmay\\appdata\\local\\programs\\python\\python37\\lib\\importlib\\_bootstrap.py:219: RuntimeWarning: numpy.ufunc size changed, may indicate binary incompatibility. Expected 192 from C header, got 216 from PyObject\n",
      "  return f(*args, **kwds)\n",
      "c:\\users\\tanmay\\appdata\\local\\programs\\python\\python37\\lib\\importlib\\_bootstrap.py:219: RuntimeWarning: numpy.ufunc size changed, may indicate binary incompatibility. Expected 192 from C header, got 216 from PyObject\n",
      "  return f(*args, **kwds)\n",
      "c:\\users\\tanmay\\appdata\\local\\programs\\python\\python37\\lib\\importlib\\_bootstrap.py:219: RuntimeWarning: numpy.ufunc size changed, may indicate binary incompatibility. Expected 192 from C header, got 216 from PyObject\n",
      "  return f(*args, **kwds)\n"
     ]
    }
   ],
   "source": [
    "import pandas as pd\n",
    "import numpy as np\n",
    "import math\n",
    "import pandas_datareader as web\n",
    "from sklearn.preprocessing import MinMaxScaler\n",
    "import tensorflow\n",
    "from tensorflow.keras.models import Sequential\n",
    "from tensorflow.keras.layers import Dense, LSTM\n",
    "from matplotlib import pyplot as plt\n",
    "plt.style.use('fivethirtyeight')"
   ]
  },
  {
   "cell_type": "code",
   "execution_count": 2,
   "metadata": {},
   "outputs": [
    {
     "data": {
      "text/html": [
       "<div>\n",
       "<style scoped>\n",
       "    .dataframe tbody tr th:only-of-type {\n",
       "        vertical-align: middle;\n",
       "    }\n",
       "\n",
       "    .dataframe tbody tr th {\n",
       "        vertical-align: top;\n",
       "    }\n",
       "\n",
       "    .dataframe thead th {\n",
       "        text-align: right;\n",
       "    }\n",
       "</style>\n",
       "<table border=\"1\" class=\"dataframe\">\n",
       "  <thead>\n",
       "    <tr style=\"text-align: right;\">\n",
       "      <th></th>\n",
       "      <th>High</th>\n",
       "      <th>Low</th>\n",
       "      <th>Open</th>\n",
       "      <th>Close</th>\n",
       "      <th>Volume</th>\n",
       "      <th>Adj Close</th>\n",
       "    </tr>\n",
       "    <tr>\n",
       "      <th>Date</th>\n",
       "      <th></th>\n",
       "      <th></th>\n",
       "      <th></th>\n",
       "      <th></th>\n",
       "      <th></th>\n",
       "      <th></th>\n",
       "    </tr>\n",
       "  </thead>\n",
       "  <tbody>\n",
       "    <tr>\n",
       "      <th>2014-12-31</th>\n",
       "      <td>28.282499</td>\n",
       "      <td>27.552500</td>\n",
       "      <td>28.205000</td>\n",
       "      <td>27.594999</td>\n",
       "      <td>165613600.0</td>\n",
       "      <td>24.951870</td>\n",
       "    </tr>\n",
       "    <tr>\n",
       "      <th>2015-01-02</th>\n",
       "      <td>27.860001</td>\n",
       "      <td>26.837500</td>\n",
       "      <td>27.847500</td>\n",
       "      <td>27.332500</td>\n",
       "      <td>212818400.0</td>\n",
       "      <td>24.714508</td>\n",
       "    </tr>\n",
       "    <tr>\n",
       "      <th>2015-01-05</th>\n",
       "      <td>27.162500</td>\n",
       "      <td>26.352501</td>\n",
       "      <td>27.072500</td>\n",
       "      <td>26.562500</td>\n",
       "      <td>257142000.0</td>\n",
       "      <td>24.018259</td>\n",
       "    </tr>\n",
       "    <tr>\n",
       "      <th>2015-01-06</th>\n",
       "      <td>26.857500</td>\n",
       "      <td>26.157499</td>\n",
       "      <td>26.635000</td>\n",
       "      <td>26.565001</td>\n",
       "      <td>263188400.0</td>\n",
       "      <td>24.020523</td>\n",
       "    </tr>\n",
       "    <tr>\n",
       "      <th>2015-01-07</th>\n",
       "      <td>27.049999</td>\n",
       "      <td>26.674999</td>\n",
       "      <td>26.799999</td>\n",
       "      <td>26.937500</td>\n",
       "      <td>160423600.0</td>\n",
       "      <td>24.357340</td>\n",
       "    </tr>\n",
       "    <tr>\n",
       "      <th>...</th>\n",
       "      <td>...</td>\n",
       "      <td>...</td>\n",
       "      <td>...</td>\n",
       "      <td>...</td>\n",
       "      <td>...</td>\n",
       "      <td>...</td>\n",
       "    </tr>\n",
       "    <tr>\n",
       "      <th>2021-10-26</th>\n",
       "      <td>150.839996</td>\n",
       "      <td>149.009995</td>\n",
       "      <td>149.330002</td>\n",
       "      <td>149.320007</td>\n",
       "      <td>60893400.0</td>\n",
       "      <td>148.912674</td>\n",
       "    </tr>\n",
       "    <tr>\n",
       "      <th>2021-10-27</th>\n",
       "      <td>149.729996</td>\n",
       "      <td>148.490005</td>\n",
       "      <td>149.360001</td>\n",
       "      <td>148.850006</td>\n",
       "      <td>56094900.0</td>\n",
       "      <td>148.443954</td>\n",
       "    </tr>\n",
       "    <tr>\n",
       "      <th>2021-10-28</th>\n",
       "      <td>153.169998</td>\n",
       "      <td>149.720001</td>\n",
       "      <td>149.820007</td>\n",
       "      <td>152.570007</td>\n",
       "      <td>100077900.0</td>\n",
       "      <td>152.153809</td>\n",
       "    </tr>\n",
       "    <tr>\n",
       "      <th>2021-10-29</th>\n",
       "      <td>149.940002</td>\n",
       "      <td>146.410004</td>\n",
       "      <td>147.220001</td>\n",
       "      <td>149.800003</td>\n",
       "      <td>124850400.0</td>\n",
       "      <td>149.391357</td>\n",
       "    </tr>\n",
       "    <tr>\n",
       "      <th>2021-11-01</th>\n",
       "      <td>149.699997</td>\n",
       "      <td>147.800003</td>\n",
       "      <td>148.990005</td>\n",
       "      <td>148.960007</td>\n",
       "      <td>74588300.0</td>\n",
       "      <td>148.553650</td>\n",
       "    </tr>\n",
       "  </tbody>\n",
       "</table>\n",
       "<p>1722 rows × 6 columns</p>\n",
       "</div>"
      ],
      "text/plain": [
       "                  High         Low        Open       Close       Volume   Adj Close\n",
       "Date                                                                               \n",
       "2014-12-31   28.282499   27.552500   28.205000   27.594999  165613600.0   24.951870\n",
       "2015-01-02   27.860001   26.837500   27.847500   27.332500  212818400.0   24.714508\n",
       "2015-01-05   27.162500   26.352501   27.072500   26.562500  257142000.0   24.018259\n",
       "2015-01-06   26.857500   26.157499   26.635000   26.565001  263188400.0   24.020523\n",
       "2015-01-07   27.049999   26.674999   26.799999   26.937500  160423600.0   24.357340\n",
       "...                ...         ...         ...         ...          ...         ...\n",
       "2021-10-26  150.839996  149.009995  149.330002  149.320007   60893400.0  148.912674\n",
       "2021-10-27  149.729996  148.490005  149.360001  148.850006   56094900.0  148.443954\n",
       "2021-10-28  153.169998  149.720001  149.820007  152.570007  100077900.0  152.153809\n",
       "2021-10-29  149.940002  146.410004  147.220001  149.800003  124850400.0  149.391357\n",
       "2021-11-01  149.699997  147.800003  148.990005  148.960007   74588300.0  148.553650\n",
       "\n",
       "[1722 rows x 6 columns]"
      ]
     },
     "execution_count": 2,
     "metadata": {},
     "output_type": "execute_result"
    }
   ],
   "source": [
    "df = web.DataReader('AAPL', data_source = 'yahoo', start = '2015-01-01', end = '2021-11-01')\n",
    "df"
   ]
  },
  {
   "cell_type": "code",
   "execution_count": null,
   "metadata": {},
   "outputs": [],
   "source": []
  },
  {
   "cell_type": "code",
   "execution_count": null,
   "metadata": {},
   "outputs": [],
   "source": []
  },
  {
   "cell_type": "code",
   "execution_count": 3,
   "metadata": {},
   "outputs": [
    {
     "data": {
      "text/plain": [
       "(1722, 6)"
      ]
     },
     "execution_count": 3,
     "metadata": {},
     "output_type": "execute_result"
    }
   ],
   "source": [
    "df.shape"
   ]
  },
  {
   "cell_type": "code",
   "execution_count": 4,
   "metadata": {},
   "outputs": [
    {
     "name": "stderr",
     "output_type": "stream",
     "text": [
      "c:\\users\\tanmay\\appdata\\local\\programs\\python\\python37\\lib\\site-packages\\pandas\\plotting\\_matplotlib\\converter.py:103: FutureWarning: Using an implicitly registered datetime converter for a matplotlib plotting method. The converter was registered by pandas on import. Future versions of pandas will require you to explicitly register matplotlib converters.\n",
      "\n",
      "To register the converters:\n",
      "\t>>> from pandas.plotting import register_matplotlib_converters\n",
      "\t>>> register_matplotlib_converters()\n",
      "  warnings.warn(msg, FutureWarning)\n"
     ]
    },
    {
     "data": {
      "image/png": "[encoded data removed]",
      "text/plain": [
       "<Figure size 1152x576 with 1 Axes>"
      ]
     },
     "metadata": {},
     "output_type": "display_data"
    }
   ],
   "source": [
    "plt.figure(figsize=(16,8))\n",
    "plt.title('Close Price History')\n",
    "plt.plot(df['Close'])\n",
    "plt.xlabel('Date', fontsize = 18)\n",
    "plt.ylabel('Close Price $USD', fontsize=18)\n",
    "plt.show()"
   ]
  },
  {
   "cell_type": "code",
   "execution_count": 5,
   "metadata": {},
   "outputs": [
    {
     "data": {
      "text/plain": [
       "1378"
      ]
     },
     "execution_count": 5,
     "metadata": {},
     "output_type": "execute_result"
    }
   ],
   "source": [
    "# DF with only close column\n",
    "\n",
    "data = df.filter(['Close'])\n",
    "\n",
    "# Into numpy\n",
    "dataset = data.values\n",
    "\n",
    "# Rows to train the model 80%\n",
    "training_data_len = math.ceil(len(dataset)* .8)\n",
    "training_data_len"
   ]
  },
  {
   "cell_type": "code",
   "execution_count": 6,
   "metadata": {},
   "outputs": [
    {
     "data": {
      "text/plain": [
       "array([[0.03735879],\n",
       "       [0.03540137],\n",
       "       [0.0296596 ],\n",
       "       ...,\n",
       "       [0.96927784],\n",
       "       [0.94862235],\n",
       "       [0.94235863]])"
      ]
     },
     "execution_count": 6,
     "metadata": {},
     "output_type": "execute_result"
    }
   ],
   "source": [
    "# Scaling \n",
    "\n",
    "scaler = MinMaxScaler(feature_range=(0,1))\n",
    "scaled_data = scaler.fit_transform(dataset)\n",
    "\n",
    "scaled_data"
   ]
  },
  {
   "cell_type": "code",
   "execution_count": 7,
   "metadata": {},
   "outputs": [
    {
     "name": "stdout",
     "output_type": "stream",
     "text": [
      "[array([0.03735879, 0.03540137, 0.0296596 , 0.02967825, 0.03245592,\n",
      "       0.04017375, 0.04039746, 0.03525223, 0.03706052, 0.03627756,\n",
      "       0.0307222 , 0.0291749 , 0.0342642 , 0.0358115 , 0.0411245 ,\n",
      "       0.04220575, 0.04242944, 0.03504717, 0.04654935, 0.05324187,\n",
      "       0.04999815, 0.05273853, 0.05277582, 0.05447224, 0.05518065,\n",
      "       0.0532978 , 0.05477052, 0.0590582 , 0.06438984, 0.0673353 ,\n",
      "       0.06849112, 0.06988927, 0.07154842, 0.07104508, 0.0730025 ,\n",
      "       0.07952724, 0.07797994, 0.0716789 , 0.07471757, 0.07106374,\n",
      "       0.07223817, 0.07274151, 0.07121285, 0.0672421 , 0.06759629,\n",
      "       0.06860296, 0.06370009, 0.05946833, 0.06358823, 0.06198501,\n",
      "       0.06452034, 0.06841655, 0.07108237, 0.06927408, 0.06629135,\n",
      "       0.06873346, 0.06776408, 0.06159353, 0.06319675, 0.06135119])]\n",
      "[0.06716752825544103]\n"
     ]
    }
   ],
   "source": [
    "# Creating scaled dataset\n",
    "\n",
    "train_data = scaled_data[0:training_data_len, :]\n",
    "\n",
    "x_train = []\n",
    "y_train = []\n",
    "\n",
    "for i in range(60, len(train_data)):\n",
    "    x_train.append(train_data[i-60:i, 0])\n",
    "    y_train.append(train_data[i,0])\n",
    "    if(i<=60):\n",
    "        print(x_train)\n",
    "        print(y_train)                        "
   ]
  },
  {
   "cell_type": "code",
   "execution_count": 8,
   "metadata": {},
   "outputs": [],
   "source": [
    "# x_train and y_train into numpy\n",
    "\n",
    "x_train, y_train = np.array(x_train), np.array(y_train)"
   ]
  },
  {
   "cell_type": "code",
   "execution_count": 9,
   "metadata": {},
   "outputs": [
    {
     "data": {
      "text/plain": [
       "(1318, 60)"
      ]
     },
     "execution_count": 9,
     "metadata": {},
     "output_type": "execute_result"
    }
   ],
   "source": [
    "# Reshape the data since Lstm accepts 3d data\n",
    "x_train.shape"
   ]
  },
  {
   "cell_type": "code",
   "execution_count": 10,
   "metadata": {},
   "outputs": [
    {
     "data": {
      "text/plain": [
       "(1318, 60, 1)"
      ]
     },
     "execution_count": 10,
     "metadata": {},
     "output_type": "execute_result"
    }
   ],
   "source": [
    "# So\n",
    "\n",
    "x_train = np.reshape(x_train, (x_train.shape[0], x_train.shape[1], 1))\n",
    "x_train.shape"
   ]
  },
  {
   "cell_type": "code",
   "execution_count": 11,
   "metadata": {},
   "outputs": [],
   "source": [
    "# Building LSTM model\n",
    "\n",
    "model = Sequential()\n",
    "model.add(LSTM(50, return_sequences = True, input_shape = (x_train.shape[1],1)))\n",
    "model.add(LSTM(50, return_sequences = False))\n",
    "model.add(Dense(25))\n",
    "model.add(Dense(1))"
   ]
  },
  {
   "cell_type": "code",
   "execution_count": 12,
   "metadata": {},
   "outputs": [],
   "source": [
    "# Compile the model\n",
    "\n",
    "model.compile(optimizer= 'adam', loss='mean_squared_error')\n"
   ]
  },
  {
   "cell_type": "code",
   "execution_count": 13,
   "metadata": {},
   "outputs": [
    {
     "name": "stdout",
     "output_type": "stream",
     "text": [
      "1318/1318 [==============================] - 80s 50ms/step - loss: 5.4413e-04\n"
     ]
    },
    {
     "data": {
      "text/plain": [
       "<keras.callbacks.History at 0x22cb3c41ac8>"
      ]
     },
     "execution_count": 13,
     "metadata": {},
     "output_type": "execute_result"
    }
   ],
   "source": [
    "# Training the model\n",
    "\n",
    "model.fit(x_train, y_train, batch_size=1, epochs=1)"
   ]
  },
  {
   "cell_type": "code",
   "execution_count": 14,
   "metadata": {},
   "outputs": [],
   "source": [
    "model.save('keras_model.h5')"
   ]
  },
  {
   "cell_type": "code",
   "execution_count": null,
   "metadata": {},
   "outputs": [],
   "source": []
  },
  {
   "cell_type": "code",
   "execution_count": null,
   "metadata": {},
   "outputs": [],
   "source": []
  },
  {
   "cell_type": "code",
   "execution_count": 15,
   "metadata": {},
   "outputs": [],
   "source": [
    "# Create the testing dataset\n",
    "# Create a new array containing scaled values from index 1543 to 2003\n",
    "\n",
    "test_data = scaled_data[training_data_len-60:, :]\n",
    "\n",
    "# Create the dataset of x_test and y_test\n",
    "\n",
    "x_test = []\n",
    "y_test = dataset[training_data_len:, :]\n",
    "for i in range(60, len(test_data)):\n",
    "    x_test.append(test_data[i-60:i,0])"
   ]
  },
  {
   "cell_type": "code",
   "execution_count": 16,
   "metadata": {},
   "outputs": [],
   "source": [
    "# Convert data into numpy array\n",
    "\n",
    "x_test = np.array(x_test)"
   ]
  },
  {
   "cell_type": "code",
   "execution_count": 17,
   "metadata": {},
   "outputs": [],
   "source": [
    "# Reshape the data\n",
    "\n",
    "x_test = np.reshape(x_test, (x_test.shape[0], x_test.shape[1], 1))"
   ]
  },
  {
   "cell_type": "code",
   "execution_count": 18,
   "metadata": {},
   "outputs": [],
   "source": [
    "# Get the model price prediction values\n",
    "\n",
    "predictions = model.predict(x_test)\n",
    "predictions = scaler.inverse_transform(predictions)"
   ]
  },
  {
   "cell_type": "code",
   "execution_count": 19,
   "metadata": {},
   "outputs": [
    {
     "data": {
      "text/plain": [
       "4.193318205424183"
      ]
     },
     "execution_count": 19,
     "metadata": {},
     "output_type": "execute_result"
    }
   ],
   "source": [
    "# Getting the root mean squared error\n",
    "\n",
    "rmse=np.sqrt(np.mean(((predictions- y_test)**2)))\n",
    "rmse"
   ]
  },
  {
   "cell_type": "code",
   "execution_count": 20,
   "metadata": {},
   "outputs": [
    {
     "name": "stderr",
     "output_type": "stream",
     "text": [
      "c:\\users\\tanmay\\appdata\\local\\programs\\python\\python37\\lib\\site-packages\\ipykernel_launcher.py:5: SettingWithCopyWarning: \n",
      "A value is trying to be set on a copy of a slice from a DataFrame.\n",
      "Try using .loc[row_indexer,col_indexer] = value instead\n",
      "\n",
      "See the caveats in the documentation: http://pandas.pydata.org/pandas-docs/stable/user_guide/indexing.html#returning-a-view-versus-a-copy\n",
      "  \"\"\"\n"
     ]
    },
    {
     "data": {
      "image/png": "[encoded data removed]",
      "text/plain": [
       "<Figure size 1152x576 with 1 Axes>"
      ]
     },
     "metadata": {},
     "output_type": "display_data"
    }
   ],
   "source": [
    "# Plotting the data\n",
    "\n",
    "train = data[:training_data_len]\n",
    "valid = data[training_data_len:]\n",
    "valid['Predictions'] = predictions\n",
    "\n",
    "# Visualize the data\n",
    "\n",
    "plt.figure(figsize=(16,8))\n",
    "plt.title('Model')\n",
    "plt.xlabel('Date', fontsize = 18)\n",
    "plt.ylabel('Closed price USD $', fontsize = 18)\n",
    "plt.plot(train['Close'])\n",
    "plt.plot(valid[['Close', 'Predictions']])\n",
    "plt.legend(['Train', 'Actual Val' , 'Predictions'], loc = 'lower right')\n",
    "plt.show()"
   ]
  },
  {
   "cell_type": "code",
   "execution_count": 21,
   "metadata": {},
   "outputs": [
    {
     "data": {
      "text/html": [
       "<div>\n",
       "<style scoped>\n",
       "    .dataframe tbody tr th:only-of-type {\n",
       "        vertical-align: middle;\n",
       "    }\n",
       "\n",
       "    .dataframe tbody tr th {\n",
       "        vertical-align: top;\n",
       "    }\n",
       "\n",
       "    .dataframe thead th {\n",
       "        text-align: right;\n",
       "    }\n",
       "</style>\n",
       "<table border=\"1\" class=\"dataframe\">\n",
       "  <thead>\n",
       "    <tr style=\"text-align: right;\">\n",
       "      <th></th>\n",
       "      <th>Close</th>\n",
       "      <th>Predictions</th>\n",
       "    </tr>\n",
       "    <tr>\n",
       "      <th>Date</th>\n",
       "      <th></th>\n",
       "      <th></th>\n",
       "    </tr>\n",
       "  </thead>\n",
       "  <tbody>\n",
       "    <tr>\n",
       "      <th>2020-06-23</th>\n",
       "      <td>91.632500</td>\n",
       "      <td>86.990456</td>\n",
       "    </tr>\n",
       "    <tr>\n",
       "      <th>2020-06-24</th>\n",
       "      <td>90.014999</td>\n",
       "      <td>87.744637</td>\n",
       "    </tr>\n",
       "    <tr>\n",
       "      <th>2020-06-25</th>\n",
       "      <td>91.209999</td>\n",
       "      <td>88.351440</td>\n",
       "    </tr>\n",
       "    <tr>\n",
       "      <th>2020-06-26</th>\n",
       "      <td>88.407501</td>\n",
       "      <td>88.954292</td>\n",
       "    </tr>\n",
       "    <tr>\n",
       "      <th>2020-06-29</th>\n",
       "      <td>90.445000</td>\n",
       "      <td>89.189651</td>\n",
       "    </tr>\n",
       "    <tr>\n",
       "      <th>...</th>\n",
       "      <td>...</td>\n",
       "      <td>...</td>\n",
       "    </tr>\n",
       "    <tr>\n",
       "      <th>2021-10-26</th>\n",
       "      <td>149.320007</td>\n",
       "      <td>145.823654</td>\n",
       "    </tr>\n",
       "    <tr>\n",
       "      <th>2021-10-27</th>\n",
       "      <td>148.850006</td>\n",
       "      <td>146.312012</td>\n",
       "    </tr>\n",
       "    <tr>\n",
       "      <th>2021-10-28</th>\n",
       "      <td>152.570007</td>\n",
       "      <td>146.638290</td>\n",
       "    </tr>\n",
       "    <tr>\n",
       "      <th>2021-10-29</th>\n",
       "      <td>149.800003</td>\n",
       "      <td>147.258652</td>\n",
       "    </tr>\n",
       "    <tr>\n",
       "      <th>2021-11-01</th>\n",
       "      <td>148.960007</td>\n",
       "      <td>147.621445</td>\n",
       "    </tr>\n",
       "  </tbody>\n",
       "</table>\n",
       "<p>344 rows × 2 columns</p>\n",
       "</div>"
      ],
      "text/plain": [
       "                 Close  Predictions\n",
       "Date                               \n",
       "2020-06-23   91.632500    86.990456\n",
       "2020-06-24   90.014999    87.744637\n",
       "2020-06-25   91.209999    88.351440\n",
       "2020-06-26   88.407501    88.954292\n",
       "2020-06-29   90.445000    89.189651\n",
       "...                ...          ...\n",
       "2021-10-26  149.320007   145.823654\n",
       "2021-10-27  148.850006   146.312012\n",
       "2021-10-28  152.570007   146.638290\n",
       "2021-10-29  149.800003   147.258652\n",
       "2021-11-01  148.960007   147.621445\n",
       "\n",
       "[344 rows x 2 columns]"
      ]
     },
     "execution_count": 21,
     "metadata": {},
     "output_type": "execute_result"
    }
   ],
   "source": [
    "# Show the value of actual price as well as the predicted\n",
    "\n",
    "valid"
   ]
  },
  {
   "cell_type": "code",
   "execution_count": 22,
   "metadata": {},
   "outputs": [
    {
     "name": "stdout",
     "output_type": "stream",
     "text": [
      "[[148.07281]]\n"
     ]
    }
   ],
   "source": [
    "# Getting the quote and predicting on 2019-12-18(next day)\n",
    "\n",
    "apple_quote = web.DataReader('AAPL', data_source='yahoo', start='2015-01-01', end= '2021-11-03')\n",
    "\n",
    "# Create a new dataframe\n",
    "\n",
    "new_df = apple_quote.filter(['Close'])\n",
    "\n",
    "# Taking last 60 days data and converting into array\n",
    "\n",
    "last_60_days = new_df[-60:].values\n",
    "\n",
    "# Scale the data b/w 0 and 1\n",
    "\n",
    "last_60_days_scaled = scaler.transform(last_60_days)\n",
    "\n",
    "# Create an empty list\n",
    "\n",
    "X_test = []\n",
    "\n",
    "# Append last 60 days data\n",
    "\n",
    "X_test.append(last_60_days_scaled)\n",
    "# Converting into array\n",
    "X_test = np.array(X_test)\n",
    "\n",
    "# Reshape the data\n",
    "X_test = np.reshape(X_test, (X_test.shape[0], X_test.shape[1], 1))\n",
    "\n",
    "# Get the predicted scaled price\n",
    "pred_price = model.predict(X_test)\n",
    "\n",
    "#Undo the scaling\n",
    "\n",
    "pred_price = scaler.inverse_transform(pred_price)\n",
    "print(pred_price)"
   ]
  },
  {
   "cell_type": "code",
   "execution_count": 23,
   "metadata": {},
   "outputs": [
    {
     "name": "stdout",
     "output_type": "stream",
     "text": [
      "Date\n",
      "2021-11-03    151.490005\n",
      "2021-11-04    150.960007\n",
      "Name: Close, dtype: float64\n"
     ]
    }
   ],
   "source": [
    "# Getting the quote and predicting on 2019-12-18(next day) - ACTUAL\n",
    "\n",
    "apple_quote2 = web.DataReader('AAPL', data_source='yahoo', start='2021-11-04', end='2021-11-04')\n",
    "print(apple_quote2['Close'])"
   ]
  },
  {
   "cell_type": "code",
   "execution_count": null,
   "metadata": {},
   "outputs": [],
   "source": []
  }
 ],
 "metadata": {
  "kernelspec": {
   "display_name": "Python 3",
   "language": "python",
   "name": "python3"
  },
  "language_info": {
   "codemirror_mode": {
    "name": "ipython",
    "version": 3
   },
   "file_extension": ".py",
   "mimetype": "text/x-python",
   "name": "python",
   "nbconvert_exporter": "python",
   "pygments_lexer": "ipython3",
   "version": "3.7.4"
  }
 },
 "nbformat": 4,
 "nbformat_minor": 4
}
